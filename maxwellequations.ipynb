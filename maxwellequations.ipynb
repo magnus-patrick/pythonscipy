{
 "cells": [
  {
   "cell_type": "code",
   "execution_count": 1,
   "id": "47479f15",
   "metadata": {},
   "outputs": [],
   "source": [
    "import matplotlib.pyplot as plt # Has LaTeX built into it."
   ]
  },
  {
   "cell_type": "markdown",
   "id": "b66a3eaf",
   "metadata": {},
   "source": [
    "# Gauss' Law for Electric Fields\n",
    "\n",
    "Integral form: $$ \\oiint \\limits_{\\partial \\Omega} \\mathbf{E} \\cdot d\\textbf{S} = \\frac{1}{\\epsilon_0} \\iiint \\limits_{\\Omega} \\rho dV $$\n",
    "\n",
    "Differential form: $$\\nabla \\cdot \\mathbf{E} = \\frac{\\rho}{\\epsilon_0}$$"
   ]
  },
  {
   "cell_type": "markdown",
   "id": "31a16d4d",
   "metadata": {},
   "source": [
    "# Gauss' Law for Magnetic Fields\n",
    "\n",
    "Integral form: $$\\oint \\limits_{\\partial \\Omega} \\textbf{B} \\cdot d\\textbf{S} = 0$$\n",
    "\n",
    "Differential form: $$\\nabla \\cdot \\textbf{B} = 0$$"
   ]
  },
  {
   "cell_type": "markdown",
   "id": "b0837ace",
   "metadata": {},
   "source": [
    "# Faraday's Law of Induction\n",
    "\n",
    "Integral form: $$\\oint \\limits_{\\partial \\Sigma} \\textbf{E} \\cdot d\\textbf{l} = -\\frac{d}{dt} \\iint \\limits_{\\Sigma} \\textbf{B} \\cdot d\\textbf{S}$$\n",
    "\n",
    "Differential form: $$\\nabla \\times \\textbf{E} = -\\frac{\\partial \\textbf{B}}{\\partial t}$$"
   ]
  },
  {
   "cell_type": "markdown",
   "id": "e6e9e263",
   "metadata": {},
   "source": [
    "# Ampère-Maxwell Circuital Law\n",
    "\n",
    "Integral form: $$\\oint \\limits_{\\partial \\Sigma} \\textbf{B} \\cdot d\\textbf{l} = \\mu_0 \\bigg(\\iint \\limits_{\\Sigma}\\textbf{J} \\cdot d\\textbf{S} + \\epsilon_0 \\frac{d}{dt} \\iint \\limits_{\\Sigma} \\textbf{E} \\cdot d\\textbf{S}  \\bigg)$$\n",
    "\n",
    "Differential form: $$\\nabla \\times \\textbf{B} = \\mu_0 \\bigg(\\textbf{J} + \\epsilon_0 \\frac{\\partial \\textbf{E}}{\\partial t}  \\bigg)$$\n"
   ]
  }
 ],
 "metadata": {
  "kernelspec": {
   "display_name": "Python 3",
   "language": "python",
   "name": "python3"
  },
  "language_info": {
   "codemirror_mode": {
    "name": "ipython",
    "version": 3
   },
   "file_extension": ".py",
   "mimetype": "text/x-python",
   "name": "python",
   "nbconvert_exporter": "python",
   "pygments_lexer": "ipython3",
   "version": "3.13.3"
  }
 },
 "nbformat": 4,
 "nbformat_minor": 5
}
